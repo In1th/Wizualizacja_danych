{
 "cells": [
  {
   "cell_type": "code",
   "execution_count": null,
   "metadata": {},
   "outputs": [],
   "source": [
    "import matplotlib.pyplot as plt\n",
    "import csv, sys, os"
   ]
  },
  {
   "cell_type": "code",
   "execution_count": null,
   "metadata": {},
   "outputs": [],
   "source": [
    "xlabel = \"Liczba izb\"\n",
    "ylabel = \"Liczba mieszkańców\"\n",
    "wojewodztwa = {}\n",
    "with open(\"../Data/BDL/csv/zasoby_mieszkaniowe/na_wsi__izby.csv\", encoding='utf-8') as f:\n",
    "    spamreader = csv.reader(f, delimiter=',', quotechar='\"')\n",
    "    next(spamreader)\n",
    "    for row in spamreader:\n",
    "        if row[0] not in wojewodztwa:\n",
    "            wojewodztwa[row[0]] = {}\n",
    "        if row[1] not in wojewodztwa[row[0]]:\n",
    "            wojewodztwa[row[0]][row[1]] = 0\n",
    "        wojewodztwa[row[0]][row[1]] += float(row[4])"
   ]
  },
  {
   "cell_type": "code",
   "execution_count": null,
   "metadata": {},
   "outputs": [],
   "source": [
    "for woj in wojewodztwa:\n",
    "    plt.scatter(wojewodztwa[woj].keys(), wojewodztwa[woj].values(), label=woj)\n",
    "    plt.grid(True)\n",
    "    plt.xticks(rotation=-45)\n",
    "\n",
    "    plt.xlabel(xlabel)\n",
    "    plt.ylabel(ylabel)\n",
    "    plt.title(woj)\n",
    "\n",
    "    plt.plot(wojewodztwa[woj].keys(), wojewodztwa[woj].values())\n",
    "    plt.show()\n",
    "\n",
    "    break # To only show one plot\n",
    "    "
   ]
  },
  {
   "cell_type": "code",
   "execution_count": null,
   "metadata": {},
   "outputs": [],
   "source": [
    "for woj in wojewodztwa:\n",
    "    plt.scatter(wojewodztwa[woj].keys(), wojewodztwa[woj].values(), label=woj)\n",
    "    plt.xticks(rotation=-45)\n",
    "\n",
    "    plt.xlabel(xlabel)\n",
    "    plt.ylabel(ylabel)\n",
    "    plt.title(woj)\n",
    "\n",
    "    plt.show()\n",
    "\n",
    "    break # To only show one plot"
   ]
  },
  {
   "cell_type": "code",
   "execution_count": null,
   "metadata": {},
   "outputs": [],
   "source": [
    "for woj in wojewodztwa:\n",
    "    plt.scatter(wojewodztwa[woj].keys(), wojewodztwa[woj].values(), label=woj)\n",
    "    plt.xticks(rotation=-45)\n",
    "\n",
    "    plt.xlabel(xlabel)\n",
    "    plt.ylabel(ylabel)\n",
    "    for i, txt in enumerate(wojewodztwa[woj].values()):\n",
    "        plt.annotate(txt, (list(wojewodztwa[woj].keys())[i], \n",
    "                           list(wojewodztwa[woj].values())[i]), fontsize=8)\n",
    "\n",
    "    plt.title(woj)\n",
    "\n",
    "    plt.show()\n",
    "\n",
    "    break # To only show one plot"
   ]
  }
 ],
 "metadata": {
  "kernelspec": {
   "display_name": "Python 3",
   "language": "python",
   "name": "python3"
  },
  "language_info": {
   "codemirror_mode": {
    "name": "ipython",
    "version": 3
   },
   "file_extension": ".py",
   "mimetype": "text/x-python",
   "name": "python",
   "nbconvert_exporter": "python",
   "pygments_lexer": "ipython3",
   "version": "3.11.1"
  },
  "orig_nbformat": 4,
  "vscode": {
   "interpreter": {
    "hash": "63754572666f6a9d0b752c30b854668ebea1171bb8d4962c65da378e3f4fa6fa"
   }
  }
 },
 "nbformat": 4,
 "nbformat_minor": 2
}
