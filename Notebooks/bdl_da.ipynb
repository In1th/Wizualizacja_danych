{
 "cells": [
  {
   "cell_type": "code",
   "execution_count": 1,
   "metadata": {},
   "outputs": [],
   "source": [
    "import pandas as pd"
   ]
  },
  {
   "cell_type": "code",
   "execution_count": 23,
   "metadata": {},
   "outputs": [],
   "source": [
    "def format(s: str):\n",
    "    return s.lower()\\\n",
    "        .replace('-', '')\\\n",
    "        .replace('ł', 'l')\\\n",
    "        .replace('ś', 's')\\\n",
    "        .replace('ą', 'a')\\\n",
    "        .replace('ę', 'e')\\\n",
    "        .replace('ó', 'o')\\\n",
    "        .replace('ń', 'n')"
   ]
  },
  {
   "cell_type": "code",
   "execution_count": 24,
   "metadata": {},
   "outputs": [],
   "source": [
    "df = pd.read_csv('../Data/BDL/csv/mieszkania_oddane_do_użytkowania/ogółem__mieszkania.csv')\n",
    "df['rok'] = pd.to_numeric(df['rok'])\n",
    "df['wojewodzctwo'] = df.apply(lambda row: format(row['wojewodzctwo']), axis=1)"
   ]
  },
  {
   "cell_type": "code",
   "execution_count": 26,
   "metadata": {},
   "outputs": [
    {
     "data": {
      "text/html": [
       "<div>\n",
       "<style scoped>\n",
       "    .dataframe tbody tr th:only-of-type {\n",
       "        vertical-align: middle;\n",
       "    }\n",
       "\n",
       "    .dataframe tbody tr th {\n",
       "        vertical-align: top;\n",
       "    }\n",
       "\n",
       "    .dataframe thead th {\n",
       "        text-align: right;\n",
       "    }\n",
       "</style>\n",
       "<table border=\"1\" class=\"dataframe\">\n",
       "  <thead>\n",
       "    <tr style=\"text-align: right;\">\n",
       "      <th></th>\n",
       "      <th>wojewodzctwo</th>\n",
       "      <th>rok</th>\n",
       "      <th>wartosc</th>\n",
       "    </tr>\n",
       "  </thead>\n",
       "  <tbody>\n",
       "    <tr>\n",
       "      <th>22</th>\n",
       "      <td>malopolskie</td>\n",
       "      <td>2017</td>\n",
       "      <td>19963.0</td>\n",
       "    </tr>\n",
       "    <tr>\n",
       "      <th>23</th>\n",
       "      <td>malopolskie</td>\n",
       "      <td>2018</td>\n",
       "      <td>18220.0</td>\n",
       "    </tr>\n",
       "    <tr>\n",
       "      <th>24</th>\n",
       "      <td>malopolskie</td>\n",
       "      <td>2019</td>\n",
       "      <td>21751.0</td>\n",
       "    </tr>\n",
       "    <tr>\n",
       "      <th>25</th>\n",
       "      <td>malopolskie</td>\n",
       "      <td>2020</td>\n",
       "      <td>19843.0</td>\n",
       "    </tr>\n",
       "    <tr>\n",
       "      <th>26</th>\n",
       "      <td>malopolskie</td>\n",
       "      <td>2021</td>\n",
       "      <td>21923.0</td>\n",
       "    </tr>\n",
       "    <tr>\n",
       "      <th>...</th>\n",
       "      <td>...</td>\n",
       "      <td>...</td>\n",
       "      <td>...</td>\n",
       "    </tr>\n",
       "    <tr>\n",
       "      <th>427</th>\n",
       "      <td>mazowieckie</td>\n",
       "      <td>2017</td>\n",
       "      <td>37274.0</td>\n",
       "    </tr>\n",
       "    <tr>\n",
       "      <th>428</th>\n",
       "      <td>mazowieckie</td>\n",
       "      <td>2018</td>\n",
       "      <td>41078.0</td>\n",
       "    </tr>\n",
       "    <tr>\n",
       "      <th>429</th>\n",
       "      <td>mazowieckie</td>\n",
       "      <td>2019</td>\n",
       "      <td>43159.0</td>\n",
       "    </tr>\n",
       "    <tr>\n",
       "      <th>430</th>\n",
       "      <td>mazowieckie</td>\n",
       "      <td>2020</td>\n",
       "      <td>46638.0</td>\n",
       "    </tr>\n",
       "    <tr>\n",
       "      <th>431</th>\n",
       "      <td>mazowieckie</td>\n",
       "      <td>2021</td>\n",
       "      <td>44385.0</td>\n",
       "    </tr>\n",
       "  </tbody>\n",
       "</table>\n",
       "<p>80 rows × 3 columns</p>\n",
       "</div>"
      ],
      "text/plain": [
       "    wojewodzctwo   rok  wartosc\n",
       "22   malopolskie  2017  19963.0\n",
       "23   malopolskie  2018  18220.0\n",
       "24   malopolskie  2019  21751.0\n",
       "25   malopolskie  2020  19843.0\n",
       "26   malopolskie  2021  21923.0\n",
       "..           ...   ...      ...\n",
       "427  mazowieckie  2017  37274.0\n",
       "428  mazowieckie  2018  41078.0\n",
       "429  mazowieckie  2019  43159.0\n",
       "430  mazowieckie  2020  46638.0\n",
       "431  mazowieckie  2021  44385.0\n",
       "\n",
       "[80 rows x 3 columns]"
      ]
     },
     "execution_count": 26,
     "metadata": {},
     "output_type": "execute_result"
    }
   ],
   "source": [
    "df[(df['rok'] > 2016)]"
   ]
  },
  {
   "cell_type": "code",
   "execution_count": null,
   "metadata": {},
   "outputs": [],
   "source": []
  }
 ],
 "metadata": {
  "kernelspec": {
   "display_name": "Python 3",
   "language": "python",
   "name": "python3"
  },
  "language_info": {
   "codemirror_mode": {
    "name": "ipython",
    "version": 3
   },
   "file_extension": ".py",
   "mimetype": "text/x-python",
   "name": "python",
   "nbconvert_exporter": "python",
   "pygments_lexer": "ipython3",
   "version": "3.10.11"
  },
  "orig_nbformat": 4
 },
 "nbformat": 4,
 "nbformat_minor": 2
}
