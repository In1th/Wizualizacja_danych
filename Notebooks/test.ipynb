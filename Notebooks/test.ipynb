{
 "cells": [
  {
   "cell_type": "code",
   "execution_count": 19,
   "metadata": {},
   "outputs": [],
   "source": [
    "import pandas as pd\n",
    "df = pd.read_pickle('../Data/Otodom/otodom_09_05_23.zip')"
   ]
  },
  {
   "cell_type": "code",
   "execution_count": 22,
   "metadata": {},
   "outputs": [],
   "source": [
    "wojewodztwa = ['dolnośląskie', 'kujawsko-pomorskie', 'lubelskie', 'lubuskie', 'łódzkie', 'małopolskie', 'mazowieckie', 'opolskie', 'podkarpackie', 'podlaskie', 'pomorskie', 'śląskie', 'świętokrzyskie', 'warmińsko-mazurskie', 'wielkopolskie', 'zachodniopomorskie']\n",
    "wojewodztwa.sort()"
   ]
  },
  {
   "cell_type": "code",
   "execution_count": null,
   "metadata": {},
   "outputs": [],
   "source": [
    "# histogram/radar liczby pokoi per województwo\n",
    "df[['voivodeship', 'rooms', 'name']].groupby(['voivodeship', 'rooms']).count()"
   ]
  },
  {
   "cell_type": "code",
   "execution_count": null,
   "metadata": {},
   "outputs": [],
   "source": [
    "# cena za m2 grupowana na pokoje per województwo\n",
    "df['price/m2'] = df['price']/df['size']\n",
    "df[['voivodeship', 'rooms', 'price/m2']].groupby(['voivodeship', 'rooms']).mean()"
   ]
  },
  {
   "cell_type": "code",
   "execution_count": null,
   "metadata": {},
   "outputs": [],
   "source": [
    "# średnie ceny grupowane na pokoje per województwo\n",
    "df[['voivodeship', 'rooms', 'price']].groupby(['voivodeship', 'rooms']).mean()"
   ]
  },
  {
   "cell_type": "code",
   "execution_count": null,
   "metadata": {},
   "outputs": [],
   "source": [
    "# scatter/bubble chart metrarzu/ceny per województwo z labelingiem na liczbę pokoi (?)\n",
    "for w in wojewodztwa:\n",
    "    print(df[df['voivodeship'] == w][['voivodeship', 'price', 'size']].mean().count())"
   ]
  },
  {
   "cell_type": "code",
   "execution_count": null,
   "metadata": {},
   "outputs": [],
   "source": [
    "# pie chart z liczbą ofert per województwo\n",
    "df[['voivodeship', 'rooms']].groupby(['voivodeship']).count()"
   ]
  },
  {
   "cell_type": "code",
   "execution_count": null,
   "metadata": {},
   "outputs": [],
   "source": [
    "# 4 miasta z największą ilością ofert per województwo\n",
    "for w in wojewodztwa:\n",
    "    print(df[df['voivodeship'] == w][['voivodeship', 'city', 'name']].groupby(['voivodeship', 'city']).count().head(4))"
   ]
  }
 ],
 "metadata": {
  "kernelspec": {
   "display_name": "Python 3",
   "language": "python",
   "name": "python3"
  },
  "language_info": {
   "codemirror_mode": {
    "name": "ipython",
    "version": 3
   },
   "file_extension": ".py",
   "mimetype": "text/x-python",
   "name": "python",
   "nbconvert_exporter": "python",
   "pygments_lexer": "ipython3",
   "version": "3.11.1"
  },
  "orig_nbformat": 4
 },
 "nbformat": 4,
 "nbformat_minor": 2
}
