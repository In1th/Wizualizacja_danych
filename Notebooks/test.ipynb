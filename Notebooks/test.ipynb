{
 "cells": [
  {
   "cell_type": "code",
   "execution_count": 19,
   "metadata": {},
   "outputs": [],
   "source": [
    "import pandas as pd\n",
    "df = pd.read_pickle('../Data/Otodom/otodom_09_05_23.zip')"
   ]
  },
  {
   "cell_type": "code",
   "execution_count": 22,
   "metadata": {},
   "outputs": [],
   "source": [
    "wojewodztwa = ['dolnośląskie', 'kujawsko-pomorskie', 'lubelskie', 'lubuskie', 'łódzkie', 'małopolskie', 'mazowieckie', 'opolskie', 'podkarpackie', 'podlaskie', 'pomorskie', 'śląskie', 'świętokrzyskie', 'warmińsko-mazurskie', 'wielkopolskie', 'zachodniopomorskie']\n",
    "wojewodztwa.sort()"
   ]
  },
  {
   "cell_type": "code",
   "execution_count": null,
   "metadata": {},
   "outputs": [],
   "source": [
    "# histogram/radar liczby pokoi per województwo\n",
    "df[['voivodeship', 'rooms', 'name']].groupby(['voivodeship', 'rooms']).count()"
   ]
  },
  {
   "cell_type": "code",
   "execution_count": null,
   "metadata": {},
   "outputs": [],
   "source": [
    "# cena za m2 grupowana na pokoje per województwo\n",
    "df['price/m2'] = df['price']/df['size']\n",
    "df[['voivodeship', 'rooms', 'price/m2']].groupby(['voivodeship', 'rooms']).mean()"
   ]
  },
  {
   "cell_type": "code",
   "execution_count": null,
   "metadata": {},
   "outputs": [],
   "source": [
    "# średnie ceny grupowane na pokoje per województwo\n",
    "df[['voivodeship', 'rooms', 'price']].groupby(['voivodeship', 'rooms']).mean()"
   ]
  },
  {
   "cell_type": "code",
   "execution_count": 24,
   "metadata": {},
   "outputs": [
    {
     "name": "stdout",
     "output_type": "stream",
     "text": [
      "voivodeship    20307\n",
      "price          20307\n",
      "size           20307\n",
      "dtype: int64\n",
      "voivodeship    5030\n",
      "price          5030\n",
      "size           5030\n",
      "dtype: int64\n",
      "voivodeship    7652\n",
      "price          7652\n",
      "size           7652\n",
      "dtype: int64\n",
      "voivodeship    111\n",
      "price          111\n",
      "size           111\n",
      "dtype: int64\n",
      "voivodeship    25708\n",
      "price          25708\n",
      "size           25708\n",
      "dtype: int64\n",
      "voivodeship    11802\n",
      "price          11802\n",
      "size           11802\n",
      "dtype: int64\n",
      "voivodeship    336\n",
      "price          336\n",
      "size           336\n",
      "dtype: int64\n",
      "voivodeship    4502\n",
      "price          4502\n",
      "size           4502\n",
      "dtype: int64\n",
      "voivodeship    1571\n",
      "price          1571\n",
      "size           1571\n",
      "dtype: int64\n",
      "voivodeship    12685\n",
      "price          12685\n",
      "size           12685\n",
      "dtype: int64\n",
      "voivodeship    2419\n",
      "price          2419\n",
      "size           2419\n",
      "dtype: int64\n",
      "voivodeship    11771\n",
      "price          11771\n",
      "size           11771\n",
      "dtype: int64\n",
      "voivodeship    4175\n",
      "price          4175\n",
      "size           4175\n",
      "dtype: int64\n",
      "voivodeship    6453\n",
      "price          6453\n",
      "size           6453\n",
      "dtype: int64\n",
      "voivodeship    14738\n",
      "price          14738\n",
      "size           14738\n",
      "dtype: int64\n",
      "voivodeship    3961\n",
      "price          3961\n",
      "size           3961\n",
      "dtype: int64\n"
     ]
    }
   ],
   "source": [
    "# scatter/bubble chart metrarzu/ceny per województwo z labelingiem na liczbę pokoi (?)\n",
    "for w in wojewodztwa:\n",
    "    print(df[df['voivodeship'] == w][['voivodeship', 'price', 'size']].mean().count())"
   ]
  },
  {
   "cell_type": "code",
   "execution_count": null,
   "metadata": {},
   "outputs": [],
   "source": [
    "# pie chart z liczbą ofert per województwo\n",
    "df[['voivodeship', 'rooms']].groupby(['voivodeship']).count()"
   ]
  },
  {
   "cell_type": "code",
   "execution_count": null,
   "metadata": {},
   "outputs": [],
   "source": [
    "# 4 miasta z największą ilością ofert per województwo\n",
    "for w in wojewodztwa:\n",
    "    print(df[df['voivodeship'] == w][['voivodeship', 'city', 'name']].groupby(['voivodeship', 'city']).count().head(4))"
   ]
  }
 ],
 "metadata": {
  "kernelspec": {
   "display_name": "Python 3",
   "language": "python",
   "name": "python3"
  },
  "language_info": {
   "codemirror_mode": {
    "name": "ipython",
    "version": 3
   },
   "file_extension": ".py",
   "mimetype": "text/x-python",
   "name": "python",
   "nbconvert_exporter": "python",
   "pygments_lexer": "ipython3",
   "version": "3.11.1"
  },
  "orig_nbformat": 4
 },
 "nbformat": 4,
 "nbformat_minor": 2
}
