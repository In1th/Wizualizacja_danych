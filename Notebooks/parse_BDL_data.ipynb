{
 "cells": [
  {
   "cell_type": "code",
   "execution_count": 9,
   "metadata": {},
   "outputs": [],
   "source": [
    "import pandas as pd\n",
    "from tqdm import tqdm\n",
    "import json\n",
    "import os"
   ]
  },
  {
   "cell_type": "code",
   "execution_count": 10,
   "metadata": {},
   "outputs": [],
   "source": [
    "with open('../Data/BDL/gus_bdl.json', encoding='utf-8') as f:\n",
    "    data = json.load(f)"
   ]
  },
  {
   "cell_type": "code",
   "execution_count": 11,
   "metadata": {},
   "outputs": [],
   "source": [
    "def parseData(subject: str, dimension: str, folder: str, out: str):\n",
    "    records = []\n",
    "    measure_unit =  data['measureUnits'][str(data['subjects'][subject]['dimensions'][dimension]['measureUnit'])]['name']\n",
    "    for key, value in data['subjects'][subject]['dimensions'][dimension]['records'].items():\n",
    "\n",
    "        for row in value:\n",
    "            rok: int\n",
    "            msc_od: int\n",
    "            msc_do: int\n",
    "\n",
    "            match row['dateRange']['tag']:\n",
    "                case 'YearRange':\n",
    "                    rok = row['dateRange']['contents']\n",
    "                    msc_od = 1\n",
    "                    msc_do = 12\n",
    "                case 'MonthRange':\n",
    "                    tmp = row['dateRange']['contents'][0].split('-')\n",
    "                    rok = int(tmp[0])\n",
    "                    msc_od = int(tmp[1])\n",
    "\n",
    "                    tmp = row['dateRange']['contents'][1].split('-')\n",
    "                    msc_do = int(tmp[1])\n",
    "                case 'QuarterRange':\n",
    "                    tmp = row['dateRange']['contents'][0].split('-q')\n",
    "                    rok = int(tmp[0])\n",
    "                    q = int(tmp[1])\n",
    "                    msc_od = 3*(q - 1) + 1\n",
    "\n",
    "                    tmp = row['dateRange']['contents'][1].split('-q')\n",
    "                    q = int(tmp[1])\n",
    "                    msc_do = 3*(q - 1) + 3\n",
    "                case _:\n",
    "                    raise ValueError\n",
    "            new = {\n",
    "                'wojewodztwo': data['territorialUnitNames'][key],\n",
    "                'rok': rok,\n",
    "                'msc_od': msc_od,\n",
    "                'msc_do': msc_do,\n",
    "                'wartosc': row['value'],\n",
    "                'jednostka': measure_unit\n",
    "            }\n",
    "            records.append(new)\n",
    "    df = pd.DataFrame.from_records(records)\n",
    "    df.to_csv(f'../Data/BDL/csv/{folder}/{out}.csv', index=False)"
   ]
  },
  {
   "cell_type": "code",
   "execution_count": 12,
   "metadata": {},
   "outputs": [
    {
     "name": "stderr",
     "output_type": "stream",
     "text": [
      "100%|██████████| 34/34 [00:01<00:00, 27.70it/s]\n"
     ]
    }
   ],
   "source": [
    "for subject in tqdm(data['subjects'].keys()):\n",
    "    path = data['subjects'][subject]['name'].lower().replace('\\n', '__').replace(' ', '_').replace('/', '')\n",
    "    if not os.path.exists(f'../Data/BDL/csv/{path}'):\n",
    "        os.makedirs(f'../Data/BDL/csv/{path}')\n",
    "\n",
    "    for key in data['subjects'][subject]['dimensions'].keys():\n",
    "        output = key.lower().replace('\\n', '__').replace(' ', '_')\n",
    "        parseData(subject, key, path, output)"
   ]
  }
 ],
 "metadata": {
  "kernelspec": {
   "display_name": "Python 3",
   "language": "python",
   "name": "python3"
  },
  "language_info": {
   "codemirror_mode": {
    "name": "ipython",
    "version": 3
   },
   "file_extension": ".py",
   "mimetype": "text/x-python",
   "name": "python",
   "nbconvert_exporter": "python",
   "pygments_lexer": "ipython3",
   "version": "3.11.4"
  },
  "orig_nbformat": 4
 },
 "nbformat": 4,
 "nbformat_minor": 2
}
