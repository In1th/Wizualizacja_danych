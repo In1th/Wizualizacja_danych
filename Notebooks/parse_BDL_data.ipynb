{
 "cells": [
  {
   "cell_type": "code",
   "execution_count": 2,
   "metadata": {},
   "outputs": [],
   "source": [
    "import pandas as pd\n",
    "from tqdm import tqdm\n",
    "import json\n",
    "import os"
   ]
  },
  {
   "cell_type": "code",
   "execution_count": 3,
   "metadata": {},
   "outputs": [],
   "source": [
    "with open('../Data/BDL/gus_bdl.json', encoding='utf-8') as f:\n",
    "    data = json.load(f)"
   ]
  },
  {
   "cell_type": "code",
   "execution_count": 15,
   "metadata": {},
   "outputs": [],
   "source": [
    "def parseData(subject: str, dimension: str, folder: str, out: str):\n",
    "    records = []\n",
    "    for key, value in data['subjects'][subject]['dimensions'][dimension]['records'].items():\n",
    "\n",
    "        for row in value:\n",
    "            new = {\n",
    "                'wojewodzctwo': data['territorialUnitNames'][key],\n",
    "                'rok': row['dateRange']['contents'],\n",
    "                'wartosc': row['value']\n",
    "            }\n",
    "            records.append(new)\n",
    "    df = pd.DataFrame.from_records(records)\n",
    "    df.to_csv(f'../Data/BDL/csv/{folder}/{out}.csv', index=False)"
   ]
  },
  {
   "cell_type": "code",
   "execution_count": 17,
   "metadata": {},
   "outputs": [
    {
     "name": "stderr",
     "output_type": "stream",
     "text": [
      "100%|██████████| 29/29 [00:00<00:00, 41.35it/s]\n"
     ]
    }
   ],
   "source": [
    "for subject in tqdm(data['subjects'].keys()):\n",
    "    path = data['subjects'][subject]['name'].lower().replace('\\n', '__').replace(' ', '_').replace('/', '')\n",
    "    if not os.path.exists(f'../Data/BDL/csv/{path}'):\n",
    "        os.makedirs(f'../Data/BDL/csv/{path}')\n",
    "\n",
    "    for key in data['subjects'][subject]['dimensions'].keys():\n",
    "        output = key.lower().replace('\\n', '__').replace(' ', '_')\n",
    "        parseData(subject, key, path, output)"
   ]
  }
 ],
 "metadata": {
  "kernelspec": {
   "display_name": "Python 3",
   "language": "python",
   "name": "python3"
  },
  "language_info": {
   "codemirror_mode": {
    "name": "ipython",
    "version": 3
   },
   "file_extension": ".py",
   "mimetype": "text/x-python",
   "name": "python",
   "nbconvert_exporter": "python",
   "pygments_lexer": "ipython3",
   "version": "3.10.11"
  },
  "orig_nbformat": 4
 },
 "nbformat": 4,
 "nbformat_minor": 2
}
