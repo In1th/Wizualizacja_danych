{
 "cells": [
  {
   "cell_type": "code",
   "execution_count": 1,
   "metadata": {},
   "outputs": [],
   "source": [
    "import json\n",
    "import re\n",
    "import pandas as pd\n",
    "import urllib\n",
    "from tqdm import tqdm\n",
    "from urllib.request import Request\n",
    "from bs4 import BeautifulSoup\n",
    "import seaborn as sns\n",
    "import matplotlib.pyplot as plt"
   ]
  },
  {
   "cell_type": "code",
   "execution_count": 19,
   "metadata": {},
   "outputs": [],
   "source": [
    "def parseData(offer):\n",
    "    dto = {}\n",
    "    try:\n",
    "        dto['name'] = offer['name']\n",
    "    except KeyError:\n",
    "        dto['name'] = None\n",
    "    try:\n",
    "        dto['voivodeship'] = offer['itemOffered']['address']['addressRegion']\n",
    "    except KeyError:\n",
    "        dto['voivodeship'] = None\n",
    "    try:\n",
    "        dto['city'] = offer['itemOffered']['address']['addressLocality']\n",
    "    except KeyError:\n",
    "        dto['city'] = None\n",
    "    try:\n",
    "        dto['price'] = offer['price']\n",
    "    except KeyError:\n",
    "        dto['price'] = None\n",
    "    try:\n",
    "        dto['currency'] = offer['currency']\n",
    "    except KeyError:\n",
    "        dto['currency'] = None\n",
    "    try:\n",
    "        dto['rooms'] = offer['itemOffered']['numberOfRooms']\n",
    "    except KeyError:\n",
    "        dto['rooms'] = None\n",
    "    try:\n",
    "        dto['size'] = offer['itemOffered']['floorSize']['value']\n",
    "    except KeyError:\n",
    "        dto['size'] = None\n",
    "    return dto"
   ]
  },
  {
   "cell_type": "code",
   "execution_count": 23,
   "metadata": {},
   "outputs": [
    {
     "ename": "KeyError",
     "evalue": "'currency'",
     "output_type": "error",
     "traceback": [
      "\u001b[1;31m---------------------------------------------------------------------------\u001b[0m",
      "\u001b[1;31mKeyError\u001b[0m                                  Traceback (most recent call last)",
      "\u001b[1;32mc:\\dev\\Wizualizacja_danych\\Scrapers\\otodom_scrapper_ver2.ipynb Komórka 3\u001b[0m in \u001b[0;36m1\n\u001b[0;32m      <a href='vscode-notebook-cell:/c%3A/dev/Wizualizacja_danych/Scrapers/otodom_scrapper_ver2.ipynb#W4sZmlsZQ%3D%3D?line=7'>8</a>\u001b[0m data \u001b[39m=\u001b[39m json\u001b[39m.\u001b[39mloads(html\u001b[39m.\u001b[39mtext)\n\u001b[0;32m      <a href='vscode-notebook-cell:/c%3A/dev/Wizualizacja_danych/Scrapers/otodom_scrapper_ver2.ipynb#W4sZmlsZQ%3D%3D?line=8'>9</a>\u001b[0m \u001b[39mfor\u001b[39;00m offer \u001b[39min\u001b[39;00m data[\u001b[39m'\u001b[39m\u001b[39m@graph\u001b[39m\u001b[39m'\u001b[39m][\u001b[39m2\u001b[39m][\u001b[39m'\u001b[39m\u001b[39moffers\u001b[39m\u001b[39m'\u001b[39m][\u001b[39m'\u001b[39m\u001b[39moffers\u001b[39m\u001b[39m'\u001b[39m]:\n\u001b[1;32m---> <a href='vscode-notebook-cell:/c%3A/dev/Wizualizacja_danych/Scrapers/otodom_scrapper_ver2.ipynb#W4sZmlsZQ%3D%3D?line=9'>10</a>\u001b[0m     apartaments\u001b[39m.\u001b[39mappend(parseData(offer))\n",
      "\u001b[1;32mc:\\dev\\Wizualizacja_danych\\Scrapers\\otodom_scrapper_ver2.ipynb Komórka 3\u001b[0m in \u001b[0;36m7\n\u001b[0;32m      <a href='vscode-notebook-cell:/c%3A/dev/Wizualizacja_danych/Scrapers/otodom_scrapper_ver2.ipynb#W4sZmlsZQ%3D%3D?line=0'>1</a>\u001b[0m \u001b[39mdef\u001b[39;00m \u001b[39mparseData\u001b[39m(offer):\n\u001b[0;32m      <a href='vscode-notebook-cell:/c%3A/dev/Wizualizacja_danych/Scrapers/otodom_scrapper_ver2.ipynb#W4sZmlsZQ%3D%3D?line=1'>2</a>\u001b[0m     \u001b[39mreturn\u001b[39;00m {\n\u001b[0;32m      <a href='vscode-notebook-cell:/c%3A/dev/Wizualizacja_danych/Scrapers/otodom_scrapper_ver2.ipynb#W4sZmlsZQ%3D%3D?line=2'>3</a>\u001b[0m         \u001b[39m'\u001b[39m\u001b[39mname\u001b[39m\u001b[39m'\u001b[39m: offer[\u001b[39m'\u001b[39m\u001b[39mname\u001b[39m\u001b[39m'\u001b[39m],\n\u001b[0;32m      <a href='vscode-notebook-cell:/c%3A/dev/Wizualizacja_danych/Scrapers/otodom_scrapper_ver2.ipynb#W4sZmlsZQ%3D%3D?line=3'>4</a>\u001b[0m         \u001b[39m'\u001b[39m\u001b[39mvoivodeship\u001b[39m\u001b[39m'\u001b[39m: offer[\u001b[39m'\u001b[39m\u001b[39mitemOffered\u001b[39m\u001b[39m'\u001b[39m][\u001b[39m'\u001b[39m\u001b[39maddress\u001b[39m\u001b[39m'\u001b[39m][\u001b[39m'\u001b[39m\u001b[39maddressRegion\u001b[39m\u001b[39m'\u001b[39m],\n\u001b[0;32m      <a href='vscode-notebook-cell:/c%3A/dev/Wizualizacja_danych/Scrapers/otodom_scrapper_ver2.ipynb#W4sZmlsZQ%3D%3D?line=4'>5</a>\u001b[0m         \u001b[39m'\u001b[39m\u001b[39mcity\u001b[39m\u001b[39m'\u001b[39m: offer[\u001b[39m'\u001b[39m\u001b[39mitemOffered\u001b[39m\u001b[39m'\u001b[39m][\u001b[39m'\u001b[39m\u001b[39maddress\u001b[39m\u001b[39m'\u001b[39m][\u001b[39m'\u001b[39m\u001b[39maddressLocality\u001b[39m\u001b[39m'\u001b[39m],\n\u001b[0;32m      <a href='vscode-notebook-cell:/c%3A/dev/Wizualizacja_danych/Scrapers/otodom_scrapper_ver2.ipynb#W4sZmlsZQ%3D%3D?line=5'>6</a>\u001b[0m         \u001b[39m'\u001b[39m\u001b[39mprice\u001b[39m\u001b[39m'\u001b[39m: offer[\u001b[39m'\u001b[39m\u001b[39mprice\u001b[39m\u001b[39m'\u001b[39m],\n\u001b[1;32m----> <a href='vscode-notebook-cell:/c%3A/dev/Wizualizacja_danych/Scrapers/otodom_scrapper_ver2.ipynb#W4sZmlsZQ%3D%3D?line=6'>7</a>\u001b[0m         \u001b[39m'\u001b[39m\u001b[39mcurrency\u001b[39m\u001b[39m'\u001b[39m: offer[\u001b[39m'\u001b[39;49m\u001b[39mcurrency\u001b[39;49m\u001b[39m'\u001b[39;49m],\n\u001b[0;32m      <a href='vscode-notebook-cell:/c%3A/dev/Wizualizacja_danych/Scrapers/otodom_scrapper_ver2.ipynb#W4sZmlsZQ%3D%3D?line=7'>8</a>\u001b[0m         \u001b[39m'\u001b[39m\u001b[39mrooms\u001b[39m\u001b[39m'\u001b[39m: offer[\u001b[39m'\u001b[39m\u001b[39mitemOffered\u001b[39m\u001b[39m'\u001b[39m][\u001b[39m'\u001b[39m\u001b[39mnumberOfRooms\u001b[39m\u001b[39m'\u001b[39m],\n\u001b[0;32m      <a href='vscode-notebook-cell:/c%3A/dev/Wizualizacja_danych/Scrapers/otodom_scrapper_ver2.ipynb#W4sZmlsZQ%3D%3D?line=8'>9</a>\u001b[0m         \u001b[39m'\u001b[39m\u001b[39msize\u001b[39m\u001b[39m'\u001b[39m: offer[\u001b[39m'\u001b[39m\u001b[39mitemOffered\u001b[39m\u001b[39m'\u001b[39m][\u001b[39m'\u001b[39m\u001b[39mfloorSize\u001b[39m\u001b[39m'\u001b[39m][\u001b[39m'\u001b[39m\u001b[39mvalue\u001b[39m\u001b[39m'\u001b[39m]\n\u001b[0;32m     <a href='vscode-notebook-cell:/c%3A/dev/Wizualizacja_danych/Scrapers/otodom_scrapper_ver2.ipynb#W4sZmlsZQ%3D%3D?line=9'>10</a>\u001b[0m     }\n",
      "\u001b[1;31mKeyError\u001b[0m: 'currency'"
     ]
    }
   ],
   "source": [
    "url = 'https://www.otodom.pl/pl/oferty/sprzedaz/mieszkanie/cala-polska?page=1&limit=36&ownerTypeSingleSelect=ALL&by=DEFAULT&direction=DESC&viewType=listing&page='\n",
    "\n",
    "apartaments = []\n",
    "# for page_number in tqdm(range(1,3000)):\n",
    "with urllib.request.urlopen(f'{url}{1}') as resp:\n",
    "    page = BeautifulSoup(resp.read().decode('utf-8'), \"html.parser\")\n",
    "    html = page.find(attrs={'type' : 'application/ld+json'})\n",
    "    data = json.loads(html.text)\n",
    "    for offer in data['@graph'][2]['offers']['offers']:\n",
    "        apartaments.append(parseData(offer))"
   ]
  },
  {
   "cell_type": "code",
   "execution_count": 18,
   "metadata": {},
   "outputs": [
    {
     "data": {
      "text/plain": [
       "{'@type': 'Offer',\n",
       " 'availability': 'InStock',\n",
       " 'image': 'https://ireland.apollo.olxcdn.com/v1/files/eyJmbiI6Imd2NnltYXQ0NDBjaTMtQVBMIiwidyI6W3siZm4iOiJlbnZmcXFlMWF5NGsxLUFQTCIsInMiOiIxNCIsInAiOiIxMCwtMTAiLCJhIjoiMCJ9XX0.qZiNpt4pYeiQIAPdO8L0Nw6Kn1-bKUAXFL23uzOQ5W8/image;s=655x491;q=80',\n",
       " 'name': 'Mieszkanie 2 pok. 48,62m2 ul. Juliusza Lea',\n",
       " 'price': 719000,\n",
       " 'priceCurrency': 'PLN',\n",
       " 'url': 'https://www.otodom.pl/pl/oferta/mieszkanie-2-pok-48-62m2-ul-juliusza-lea-ID4lnOW',\n",
       " 'itemOffered': {'@type': 'Accommodation',\n",
       "  'description': 'Świetne 2 pokojowe mieszkanie na sprzedaż w miejscowości Kraków, Krowodrza, za cenę 719 000 zł. To mieszkanie na sprzedaż  na 3 piętrze ma 48,62 m² powierzchni użytkowej i 48,62 m² powierzchni całkowitej. Biuro nieruchomości Blackhouse Realty jako najważniejsze zalety mieszkania wymienia: balkon, piwnica, garaż/miejsce parkingowe. Otodom 64201801',\n",
       "  'address': {'@type': 'PostalAddress',\n",
       "   'addressCountry': 'Polska',\n",
       "   'addressLocality': 'Kraków',\n",
       "   'addressRegion': 'małopolskie',\n",
       "   'streetAddress': 'ul. Juliusza Lea'},\n",
       "  'numberOfRooms': 2,\n",
       "  'floorSize': {'@type': 'QuantitativeValue',\n",
       "   'value': 48.62,\n",
       "   'unitCode': 'MTK'}}}"
      ]
     },
     "execution_count": 18,
     "metadata": {},
     "output_type": "execute_result"
    }
   ],
   "source": [
    "data['@graph'][2]['offers']['offers'][0]"
   ]
  }
 ],
 "metadata": {
  "kernelspec": {
   "display_name": "Python 3",
   "language": "python",
   "name": "python3"
  },
  "language_info": {
   "codemirror_mode": {
    "name": "ipython",
    "version": 3
   },
   "file_extension": ".py",
   "mimetype": "text/x-python",
   "name": "python",
   "nbconvert_exporter": "python",
   "pygments_lexer": "ipython3",
   "version": "3.10.11"
  },
  "orig_nbformat": 4
 },
 "nbformat": 4,
 "nbformat_minor": 2
}
